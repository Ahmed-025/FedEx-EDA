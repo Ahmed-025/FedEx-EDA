{
  "nbformat": 4,
  "nbformat_minor": 0,
  "metadata": {
    "colab": {
      "provenance": [],
      "collapsed_sections": [
        "xTBDWmTsrFUo",
        "qHYHHJFHrrX1",
        "gG9vKKbss5V3",
        "M4rzyhioxCES",
        "5XNxD3YcxXyJ"
      ]
    },
    "kernelspec": {
      "name": "python3",
      "display_name": "Python 3"
    },
    "language_info": {
      "name": "python"
    }
  },
  "cells": [
    {
      "cell_type": "markdown",
      "source": [
        "**Fed-Ex Exploratory Data Analysis (EDA)**"
      ],
      "metadata": {
        "id": "g_62KoKjqtLk"
      }
    },
    {
      "cell_type": "markdown",
      "source": [
        "##**Project Summary:**\n",
        "This project analyzes the Fed-Ex dataset to evaluate delivery performance across various dimensions such as managing teams, shipment modes, countries of origin, and INCO terms. Key metrics like on-time delivery rate, delivery delays, lead times, and insurance costs are explored through data cleaning, transformation, and visualizations using Python."
      ],
      "metadata": {
        "id": "xTBDWmTsrFUo"
      }
    },
    {
      "cell_type": "markdown",
      "source": [
        "Project Type: EDA"
      ],
      "metadata": {
        "id": "0EXIbEZM6yFt"
      }
    },
    {
      "cell_type": "markdown",
      "source": [
        "Contribution: Individual"
      ],
      "metadata": {
        "id": "fEAxzcOi60K-"
      }
    },
    {
      "cell_type": "markdown",
      "source": [
        "Author:Mohamed Arshad Ahamed T"
      ],
      "metadata": {
        "id": "5UTHOZgD63-7"
      }
    },
    {
      "cell_type": "markdown",
      "source": [
        "##GitHub Link:https://github.com/Ahmed-025/FedEx-EDA"
      ],
      "metadata": {
        "id": "N00YTPcErR2v"
      }
    },
    {
      "cell_type": "markdown",
      "source": [
        "##**Problem Statement:**\n",
        "The objective of this project is to analyze the SCMS Delivery History dataset to identify key factors influencing delivery performance, delays, and logistics costs. By cleaning, transforming, and visualizing the data, the goal is to uncover patterns in shipment behavior across countries, shipment modes, managing teams, and vendor terms—ultimately supporting data-driven decisions to improve supply chain efficiency and on-time delivery rates."
      ],
      "metadata": {
        "id": "2FYpLk0NrmE_"
      }
    },
    {
      "cell_type": "markdown",
      "source": [
        "##General Guidelines:\n"
      ],
      "metadata": {
        "id": "qHYHHJFHrrX1"
      }
    },
    {
      "cell_type": "markdown",
      "source": [
        "1. Data Cleaning & Preprocessing:\n",
        "\n",
        "Remove irrelevant columns and duplicate entries.\n",
        "\n",
        "Handle missing values appropriately, in fields like Shipment Mode, Weight, Insurance, and date columns.\n",
        "\n",
        "Convert necessary columns to proper data types (datetime, string, numeric).\n",
        "\n",
        "2. Categorical Grouping:\n",
        "\n",
        "Consolidate less frequent or miscellaneous entries under unified categories ( combining certain values under \"Others\").\n",
        "\n",
        "3. Exploratory Data Analysis (EDA):\n",
        "\n",
        "Use bar charts and pie charts to analyze:\n",
        "\n",
        "Shipments by country\n",
        "\n",
        "On-time delivery rates by managing team and shipment mode\n",
        "\n",
        "Delay trends by country\n",
        "\n",
        "Freight cost and insurance by mode and weight\n",
        "\n",
        "Use scatter plots and histograms for relationships and distributions, such as:\n",
        "\n",
        "Lead time vs. on-time delivery\n",
        "\n",
        "Weight vs. insurance cost\n",
        "\n",
        "Delay distribution\n",
        "\n",
        "4. Trend Analysis:\n",
        "\n",
        "Analyze how shipments and freight costs vary over time (monthly/yearly).\n",
        "\n",
        "Create time series charts to identify seasonal or performance trends.\n",
        "\n",
        "5. Visualization:\n",
        "\n",
        "Use meaningful labels, titles, and legends.\n",
        "\n",
        "Choose appropriate color palettes for better interpretation."
      ],
      "metadata": {
        "id": "zM11TytG6rPS"
      }
    },
    {
      "cell_type": "markdown",
      "source": [
        "##Lets Begin !"
      ],
      "metadata": {
        "id": "gG9vKKbss5V3"
      }
    },
    {
      "cell_type": "markdown",
      "source": [
        "Import Dataset"
      ],
      "metadata": {
        "id": "IvtzNDQ8s7Sa"
      }
    },
    {
      "cell_type": "code",
      "source": [
        "from google.colab import files\n",
        "uploaded = files.upload()"
      ],
      "metadata": {
        "id": "ZEA61JQ3s9hL"
      },
      "execution_count": null,
      "outputs": []
    },
    {
      "cell_type": "markdown",
      "source": [
        "Dataset Loading"
      ],
      "metadata": {
        "id": "ZlnRVR-mtAEx"
      }
    },
    {
      "cell_type": "code",
      "source": [
        "import pandas as pd\n",
        "\n",
        "df = pd.read_csv(\"SCMS_Delivery_History_Dataset.csv\")"
      ],
      "metadata": {
        "id": "jujlLer0tHLm"
      },
      "execution_count": null,
      "outputs": []
    },
    {
      "cell_type": "markdown",
      "source": [
        "Dataset First View"
      ],
      "metadata": {
        "id": "jSqM2F62tLJa"
      }
    },
    {
      "cell_type": "code",
      "source": [
        "# Check the first few rows\n",
        "df.head()"
      ],
      "metadata": {
        "id": "waMR9-B_tZ82"
      },
      "execution_count": null,
      "outputs": []
    },
    {
      "cell_type": "markdown",
      "source": [
        "Dataset Rows and Coumns count"
      ],
      "metadata": {
        "id": "wkE6967ytdcZ"
      }
    },
    {
      "cell_type": "code",
      "source": [
        "df.shape"
      ],
      "metadata": {
        "id": "hRvTzzAFthPy"
      },
      "execution_count": null,
      "outputs": []
    },
    {
      "cell_type": "markdown",
      "source": [
        "Dataset Information"
      ],
      "metadata": {
        "id": "J8yUFOzytjsC"
      }
    },
    {
      "cell_type": "code",
      "source": [
        "df.info()"
      ],
      "metadata": {
        "id": "FQmqtVTstnhU"
      },
      "execution_count": null,
      "outputs": []
    },
    {
      "cell_type": "markdown",
      "source": [
        "Dataset Columns"
      ],
      "metadata": {
        "id": "hwuszeuYtqQU"
      }
    },
    {
      "cell_type": "code",
      "source": [
        "df.columns"
      ],
      "metadata": {
        "id": "tRSgCAT8txj3"
      },
      "execution_count": null,
      "outputs": []
    },
    {
      "cell_type": "markdown",
      "source": [
        "Drop certain columns"
      ],
      "metadata": {
        "id": "jmHq3zHktyS8"
      }
    },
    {
      "cell_type": "code",
      "source": [
        "df = df.drop(['PQ #','PO / SO #','ASN/DN #','PQ First Sent to Client Date','Item Description','Molecule/Test Type','Dosage','Dosage Form'], axis = 1)\n",
        "df.head()"
      ],
      "metadata": {
        "id": "xUJLTNLwt0qB"
      },
      "execution_count": null,
      "outputs": []
    },
    {
      "cell_type": "markdown",
      "source": [
        "Duplicate Values"
      ],
      "metadata": {
        "id": "CqZ-fnU_uH4U"
      }
    },
    {
      "cell_type": "code",
      "source": [
        "df.drop_duplicates(inplace=True)\n",
        "df.shape"
      ],
      "metadata": {
        "id": "ZjTCPxoXuKCX"
      },
      "execution_count": null,
      "outputs": []
    },
    {
      "cell_type": "code",
      "source": [
        "# Convert object columns to string (for categorical/text analysis)\n",
        "text_cols = ['Country', 'Managed By', 'Fulfill Via']\n",
        "\n",
        "for col in text_cols:\n",
        "    df[col] = df[col].astype('string')\n",
        "\n",
        "# Confirm conversion\n",
        "print(df[text_cols].dtypes)"
      ],
      "metadata": {
        "id": "jLwBNuE2ue0S"
      },
      "execution_count": null,
      "outputs": []
    },
    {
      "cell_type": "markdown",
      "source": [
        "Missing/Null values"
      ],
      "metadata": {
        "id": "rXniwvQLuKws"
      }
    },
    {
      "cell_type": "code",
      "source": [
        "df['Shipment Mode'].value_counts()"
      ],
      "metadata": {
        "id": "Iy0fy5bSubRw"
      },
      "execution_count": null,
      "outputs": []
    },
    {
      "cell_type": "markdown",
      "source": [
        "Handling Shipment mode null values"
      ],
      "metadata": {
        "id": "G1MFm5O8upIT"
      }
    },
    {
      "cell_type": "code",
      "source": [
        "df['Shipment Mode'] = df['Shipment Mode'].astype('string')\n",
        "df['Shipment Mode'] = df['Shipment Mode'].fillna('Air')"
      ],
      "metadata": {
        "id": "hbSmSa8UusvN"
      },
      "execution_count": null,
      "outputs": []
    },
    {
      "cell_type": "markdown",
      "source": [
        "Handling Weight (kilograms) column"
      ],
      "metadata": {
        "id": "qGiy4r5GvGzv"
      }
    },
    {
      "cell_type": "code",
      "source": [
        "df['Weight (Kilograms)'].unique()"
      ],
      "metadata": {
        "id": "anwxxCK4uxSC"
      },
      "execution_count": null,
      "outputs": []
    },
    {
      "cell_type": "code",
      "execution_count": null,
      "metadata": {
        "id": "BNx3JbpZqerd"
      },
      "outputs": [],
      "source": [
        "df['Weight (Kilograms)'].value_counts()"
      ]
    },
    {
      "cell_type": "code",
      "source": [
        "df['Weight (Kilograms)'].value_counts().loc['Weight Captured Separately']\n",
        "#Should return 1507"
      ],
      "metadata": {
        "id": "OUdwFcysu3Qd"
      },
      "execution_count": null,
      "outputs": []
    },
    {
      "cell_type": "code",
      "source": [
        "df['Weight (Kilograms)'] = pd.to_numeric(df['Weight (Kilograms)'], errors='coerce')"
      ],
      "metadata": {
        "id": "F1dRP4QKu6lt"
      },
      "execution_count": null,
      "outputs": []
    },
    {
      "cell_type": "code",
      "source": [
        "mean_weight = df['Weight (Kilograms)'].mean()\n",
        "print(\"Average Weight:\", mean_weight)"
      ],
      "metadata": {
        "id": "6NBwPYfIu9Jn"
      },
      "execution_count": null,
      "outputs": []
    },
    {
      "cell_type": "code",
      "source": [
        "df['Weight (Kilograms)'] = df['Weight (Kilograms)'].fillna(mean_weight)"
      ],
      "metadata": {
        "id": "yFtzx2Dxu_py"
      },
      "execution_count": null,
      "outputs": []
    },
    {
      "cell_type": "code",
      "source": [
        "df['Weight (Kilograms)'] = df['Weight (Kilograms)'].round().astype(int)\n",
        "df['Weight (Kilograms)'].value_counts()"
      ],
      "metadata": {
        "id": "6xbtZbK9vFZr"
      },
      "execution_count": null,
      "outputs": []
    },
    {
      "cell_type": "markdown",
      "source": [
        "Handling Sub Classification column"
      ],
      "metadata": {
        "id": "DbfoBjS1vTnE"
      }
    },
    {
      "cell_type": "code",
      "source": [
        "df['Sub Classification'].value_counts()"
      ],
      "metadata": {
        "id": "Gj18Ur4ovWOB"
      },
      "execution_count": null,
      "outputs": []
    },
    {
      "cell_type": "code",
      "source": [
        "df['Sub Classification'] = df['Sub Classification'].replace({\n",
        "    'HIV test - Ancillary': 'Others',\n",
        "    'Malaria': 'Others',\n",
        "    'ACT': 'Others'\n",
        "})"
      ],
      "metadata": {
        "id": "Hew1WpcXvW3H"
      },
      "execution_count": null,
      "outputs": []
    },
    {
      "cell_type": "code",
      "source": [
        "df['Sub Classification'].value_counts()"
      ],
      "metadata": {
        "id": "9H5zlnPPvcNZ"
      },
      "execution_count": null,
      "outputs": []
    },
    {
      "cell_type": "markdown",
      "source": [
        "Verifying other columns"
      ],
      "metadata": {
        "id": "aqygrpAmwMBz"
      }
    },
    {
      "cell_type": "code",
      "source": [
        "df['Brand'].unique()"
      ],
      "metadata": {
        "id": "QYPJwxk4vxqN"
      },
      "execution_count": null,
      "outputs": []
    },
    {
      "cell_type": "code",
      "source": [
        "df['Unit of Measure (Per Pack)'].unique()"
      ],
      "metadata": {
        "id": "GV3e2nNEv0Mu"
      },
      "execution_count": null,
      "outputs": []
    },
    {
      "cell_type": "code",
      "source": [
        "df['Line Item Quantity'].value_counts()"
      ],
      "metadata": {
        "id": "jwB2HiTMv2tq"
      },
      "execution_count": null,
      "outputs": []
    },
    {
      "cell_type": "code",
      "source": [
        "df['Freight Cost (USD)'].value_counts()"
      ],
      "metadata": {
        "id": "LqD2UpR_v6bY"
      },
      "execution_count": null,
      "outputs": []
    },
    {
      "cell_type": "markdown",
      "source": [
        "Handling Freight Cost (USD) column"
      ],
      "metadata": {
        "id": "AyrrA3BdwGUC"
      }
    },
    {
      "cell_type": "code",
      "source": [
        "df['Freight Cost (USD)'] = df['Freight Cost (USD)'].replace({\n",
        "    'Freight Included in Commodity Cost': 0,\n",
        "    'Invoiced Separately': 0\n",
        "})"
      ],
      "metadata": {
        "id": "iJy8nZLGv83b"
      },
      "execution_count": null,
      "outputs": []
    },
    {
      "cell_type": "code",
      "source": [
        "df['Freight Cost (USD)'] = pd.to_numeric(df['Freight Cost (USD)'], errors='coerce')\n",
        "mean_freight = df['Freight Cost (USD)'].mean()\n",
        "df['Freight Cost (USD)'] = df['Freight Cost (USD)'].fillna(mean_freight)"
      ],
      "metadata": {
        "id": "GdDwIH66v_m8"
      },
      "execution_count": null,
      "outputs": []
    },
    {
      "cell_type": "code",
      "source": [
        "df['Freight Cost (USD)'] = df['Freight Cost (USD)'].round().astype(int)"
      ],
      "metadata": {
        "id": "YHSVIKl2wDBC"
      },
      "execution_count": null,
      "outputs": []
    },
    {
      "cell_type": "markdown",
      "source": [
        "Handling PO send to Vendor Date column"
      ],
      "metadata": {
        "id": "EXzOJnnCwvfg"
      }
    },
    {
      "cell_type": "code",
      "source": [
        "df['PO Sent to Vendor Date'].value_counts()"
      ],
      "metadata": {
        "id": "wi8KJkWgwysr"
      },
      "execution_count": null,
      "outputs": []
    },
    {
      "cell_type": "code",
      "source": [
        "df['PO Sent to Vendor Date'] = df['PO Sent to Vendor Date'].replace(\n",
        "    ['N/A - From RDC', 'Date Not Captured'],\n",
        "    pd.NaT\n",
        ")"
      ],
      "metadata": {
        "id": "LKBAnaVSw1F8"
      },
      "execution_count": null,
      "outputs": []
    },
    {
      "cell_type": "code",
      "source": [
        "df['Delivery Date'] = pd.to_datetime(df['PO Sent to Vendor Date'])\n",
        "# Get the earliest delivery date\n",
        "earliest_date = df['Delivery Date'].min()\n",
        "\n",
        "# Print the result\n",
        "print(\"Earliest Delivery Date:\", earliest_date.date())"
      ],
      "metadata": {
        "id": "DchPSmU0w4aI"
      },
      "execution_count": null,
      "outputs": []
    },
    {
      "cell_type": "code",
      "source": [
        "df['PO Sent to Vendor Date'] = df['PO Sent to Vendor Date'].fillna(pd.to_datetime('2007-02-07'))"
      ],
      "metadata": {
        "id": "qJyPhILGw74_"
      },
      "execution_count": null,
      "outputs": []
    },
    {
      "cell_type": "markdown",
      "source": [
        "Handling Life term Insurance column"
      ],
      "metadata": {
        "id": "mFjJSa5pwSQe"
      }
    },
    {
      "cell_type": "code",
      "source": [
        "print(df['Line Item Insurance (USD)'].isna().sum())"
      ],
      "metadata": {
        "id": "_aVdLa7CwRmV"
      },
      "execution_count": null,
      "outputs": []
    },
    {
      "cell_type": "code",
      "source": [
        "df = df.dropna(subset=['Line Item Insurance (USD)'])"
      ],
      "metadata": {
        "id": "uTX9rbjuwW0k"
      },
      "execution_count": null,
      "outputs": []
    },
    {
      "cell_type": "markdown",
      "source": [
        "Remaining number of rows"
      ],
      "metadata": {
        "id": "TnWH-saqwi0Z"
      }
    },
    {
      "cell_type": "code",
      "source": [
        "print(f\"Remaining rows: {len(df)}\")\n"
      ],
      "metadata": {
        "id": "3LB3rKtQwaZL"
      },
      "execution_count": null,
      "outputs": []
    },
    {
      "cell_type": "markdown",
      "source": [
        "Dataset Rows and Columns"
      ],
      "metadata": {
        "id": "ug5Bet30weun"
      }
    },
    {
      "cell_type": "code",
      "source": [
        "df.head()"
      ],
      "metadata": {
        "id": "GeVP2MPrweBI"
      },
      "execution_count": null,
      "outputs": []
    },
    {
      "cell_type": "markdown",
      "source": [
        "##New Columns for Analysis"
      ],
      "metadata": {
        "id": "M4rzyhioxCES"
      }
    },
    {
      "cell_type": "markdown",
      "source": [
        "1. On-Time Delivery: delivered on or before scheduled date"
      ],
      "metadata": {
        "id": "FdzfS4aGxOTQ"
      }
    },
    {
      "cell_type": "code",
      "source": [
        "df['On Time Delivery'] = (df['Delivered to Client Date'] <= df['Scheduled Delivery Date']).astype(int)"
      ],
      "metadata": {
        "id": "BExzMgEoxEgb"
      },
      "execution_count": null,
      "outputs": []
    },
    {
      "cell_type": "markdown",
      "source": [
        "2. Delivery Delay in Days"
      ],
      "metadata": {
        "id": "7YXc0XtKxUVG"
      }
    },
    {
      "cell_type": "code",
      "source": [
        "df['Delivery Delay (days)'] = (df['Delivered to Client Date'] - df['Scheduled Delivery Date']).dt.days"
      ],
      "metadata": {
        "id": "furMdGUhxJe2"
      },
      "execution_count": null,
      "outputs": []
    },
    {
      "cell_type": "markdown",
      "source": [
        "3. Lead Time in Days: time between PO sent and scheduled delivery"
      ],
      "metadata": {
        "id": "jCMkZoU6xW0N"
      }
    },
    {
      "cell_type": "code",
      "source": [
        "df['Lead Time (days)'] = (df['Scheduled Delivery Date'] - df['PO Sent to Vendor Date']).dt.days"
      ],
      "metadata": {
        "id": "We1qBvTWxMKu"
      },
      "execution_count": null,
      "outputs": []
    },
    {
      "cell_type": "markdown",
      "source": [
        "##Visualization"
      ],
      "metadata": {
        "id": "5XNxD3YcxXyJ"
      }
    },
    {
      "cell_type": "markdown",
      "source": [
        "1. Number of Shipments by Country"
      ],
      "metadata": {
        "id": "6kO1y3NZxfE5"
      }
    },
    {
      "cell_type": "code",
      "source": [
        "import seaborn as sns\n",
        "import matplotlib.pyplot as plt\n",
        "top_countries = df['Country'].value_counts().head(15)\n",
        "\n",
        "plt.figure(figsize=(10, 6))\n",
        "sns.barplot(x=top_countries.values, y=top_countries.index, palette='viridis')\n",
        "plt.title('Top 15 Countries by Number of Shipments')\n",
        "plt.xlabel('Number of Shipments')\n",
        "plt.ylabel('Country')\n",
        "plt.grid(axis='x', linestyle='--', alpha=0.6)\n",
        "plt.show()"
      ],
      "metadata": {
        "id": "lyh_l95JxgBv"
      },
      "execution_count": null,
      "outputs": []
    },
    {
      "cell_type": "markdown",
      "source": [
        "2. Shipment Mode Distribution"
      ],
      "metadata": {
        "id": "K_pAQQQkx6SA"
      }
    },
    {
      "cell_type": "code",
      "source": [
        "shipment_mode_counts = df['Shipment Mode'].value_counts()\n",
        "\n",
        "plt.figure(figsize=(7, 7))\n",
        "plt.pie(shipment_mode_counts.values, labels=shipment_mode_counts.index, autopct='%1.1f%%', startangle=140, colors=sns.color_palette('pastel'))\n",
        "plt.title('Shipment Mode Distribution')\n",
        "plt.tight_layout()\n",
        "plt.show()"
      ],
      "metadata": {
        "id": "sau049Gdx8wD"
      },
      "execution_count": null,
      "outputs": []
    },
    {
      "cell_type": "markdown",
      "source": [
        "3. Average Freight Cost by Shipment Mode"
      ],
      "metadata": {
        "id": "Z9zwu-Xbxufi"
      }
    },
    {
      "cell_type": "code",
      "source": [
        "avg_freight_by_mode = df.groupby('Shipment Mode')['Freight Cost (USD)'].mean().sort_values(ascending=False)\n",
        "\n",
        "plt.figure(figsize=(8, 5))\n",
        "sns.barplot(x=avg_freight_by_mode.index, y=avg_freight_by_mode.values, palette='coolwarm')\n",
        "plt.title('Average Freight Cost by Shipment Mode')\n",
        "plt.ylabel('Average Freight Cost (USD)')\n",
        "plt.xlabel('Shipment Mode')\n",
        "plt.xticks(rotation=45)\n",
        "plt.tight_layout()\n",
        "plt.show()"
      ],
      "metadata": {
        "id": "Qyq4l-0Mxw-f"
      },
      "execution_count": null,
      "outputs": []
    },
    {
      "cell_type": "markdown",
      "source": [
        "4. Distribution of Lead Time (in Days)"
      ],
      "metadata": {
        "id": "VY5xzUOMx0L9"
      }
    },
    {
      "cell_type": "code",
      "source": [
        "plt.figure(figsize=(10, 5))\n",
        "sns.histplot(df['Lead Time (days)'], bins=30, kde=True, color='teal')\n",
        "plt.title('Distribution of Lead Time (Days)')\n",
        "plt.xlabel('Lead Time (Days)')\n",
        "plt.ylabel('Frequency')\n",
        "plt.tight_layout()\n",
        "plt.show()"
      ],
      "metadata": {
        "id": "UnvZ909Ex1AJ"
      },
      "execution_count": null,
      "outputs": []
    },
    {
      "cell_type": "markdown",
      "source": [
        "5. Boxplot of Insurance Cost by Shipment Mode"
      ],
      "metadata": {
        "id": "xMUYkN5YzOfb"
      }
    },
    {
      "cell_type": "code",
      "source": [
        "plt.figure(figsize=(10, 6))\n",
        "sns.boxplot(data=df, x='Shipment Mode', y='Line Item Insurance (USD)', palette='Pastel1')\n",
        "plt.title('Insurance Cost by Shipment Mode')\n",
        "plt.xlabel('Shipment Mode')\n",
        "plt.ylabel('Insurance Cost (USD)')\n",
        "plt.xticks(rotation=45)\n",
        "plt.grid(True, linestyle='--', alpha=0.5)\n",
        "plt.show()"
      ],
      "metadata": {
        "id": "qB-XfJRBzSYO"
      },
      "execution_count": null,
      "outputs": []
    },
    {
      "cell_type": "markdown",
      "source": [
        "6. Are shipments managed by specific teams (e.g., PMO-US) more likely to be delivered on time?"
      ],
      "metadata": {
        "id": "Zz-qbTRIyCni"
      }
    },
    {
      "cell_type": "code",
      "source": [
        "on_time_by_team = df.groupby('Managed By')['On Time Delivery'].mean().sort_values(ascending=False)\n",
        "\n",
        "sns.barplot(x=on_time_by_team.values, y=on_time_by_team.index)\n",
        "plt.title('On-Time Delivery Rate by Managing Team')\n",
        "plt.xlabel('On-Time Delivery Rate')\n",
        "plt.ylabel('Managed By')\n",
        "plt.show()"
      ],
      "metadata": {
        "id": "ZOUenxb_yNCA"
      },
      "execution_count": null,
      "outputs": []
    },
    {
      "cell_type": "markdown",
      "source": [
        "7. Does shipment mode impact on-time delivery likelihood?"
      ],
      "metadata": {
        "id": "tMB8QiIjycdq"
      }
    },
    {
      "cell_type": "code",
      "source": [
        "on_time_by_mode = df.groupby('Shipment Mode')['On Time Delivery'].mean().sort_values(ascending=False)\n",
        "\n",
        "sns.barplot(x=on_time_by_mode.values, y=on_time_by_mode.index, palette='Blues')\n",
        "plt.title('On-Time Delivery Rate by Shipment Mode')\n",
        "plt.xlabel('On-Time Delivery Rate')\n",
        "plt.ylabel('Shipment Mode')\n",
        "plt.show()"
      ],
      "metadata": {
        "id": "AhdljgeDydnQ"
      },
      "execution_count": null,
      "outputs": []
    },
    {
      "cell_type": "markdown",
      "source": [
        "8. Do shipments from certain countries experience more delays?"
      ],
      "metadata": {
        "id": "FCu2U1cLyjK4"
      }
    },
    {
      "cell_type": "code",
      "source": [
        "avg_delay_by_country = df.groupby('Country')['Delivery Delay (days)'].mean().sort_values(ascending=False).head(20)\n",
        "plt.figure(figsize=(10, 7))\n",
        "sns.barplot(\n",
        "    x=avg_delay_by_country.values,\n",
        "    y=avg_delay_by_country.index,\n",
        "    palette='Blues_r'  # use a consistent blue scale\n",
        ")\n",
        "plt.title('Top 20 Countries by Average Delivery Delay')\n",
        "plt.xlabel('Average Delay (Days)')\n",
        "plt.ylabel('Country')\n",
        "plt.grid(axis='x', linestyle='--', alpha=0.6)\n",
        "plt.tight_layout()\n",
        "plt.show()"
      ],
      "metadata": {
        "id": "sdBmB9Vdyi53"
      },
      "execution_count": null,
      "outputs": []
    },
    {
      "cell_type": "markdown",
      "source": [
        "9. Does shipment mode influence the frequency of late deliveries?"
      ],
      "metadata": {
        "id": "NirR0chsyqjW"
      }
    },
    {
      "cell_type": "code",
      "source": [
        "late_shipments_by_mode = df[df['On Time Delivery'] == 0]['Shipment Mode'].value_counts()\n",
        "\n",
        "sns.barplot(x=late_shipments_by_mode.index, y=late_shipments_by_mode.values, palette='Reds')\n",
        "plt.title('Late Deliveries by Shipment Mode')\n",
        "plt.xlabel('Shipment Mode')\n",
        "plt.ylabel('Number of Late Deliveries')\n",
        "plt.xticks(rotation=45)\n",
        "plt.show()"
      ],
      "metadata": {
        "id": "i3Qoe0-8ytzB",
        "colab": {
          "base_uri": "https://localhost:8080/",
          "height": 211
        },
        "outputId": "15ef4dae-c169-40fa-e877-848c0ee4aff1"
      },
      "execution_count": 1,
      "outputs": [
        {
          "output_type": "error",
          "ename": "NameError",
          "evalue": "name 'df' is not defined",
          "traceback": [
            "\u001b[0;31m---------------------------------------------------------------------------\u001b[0m",
            "\u001b[0;31mNameError\u001b[0m                                 Traceback (most recent call last)",
            "\u001b[0;32m<ipython-input-1-939308ee53c3>\u001b[0m in \u001b[0;36m<cell line: 0>\u001b[0;34m()\u001b[0m\n\u001b[0;32m----> 1\u001b[0;31m \u001b[0mlate_shipments_by_mode\u001b[0m \u001b[0;34m=\u001b[0m \u001b[0mdf\u001b[0m\u001b[0;34m[\u001b[0m\u001b[0mdf\u001b[0m\u001b[0;34m[\u001b[0m\u001b[0;34m'On Time Delivery'\u001b[0m\u001b[0;34m]\u001b[0m \u001b[0;34m==\u001b[0m \u001b[0;36m0\u001b[0m\u001b[0;34m]\u001b[0m\u001b[0;34m[\u001b[0m\u001b[0;34m'Shipment Mode'\u001b[0m\u001b[0;34m]\u001b[0m\u001b[0;34m.\u001b[0m\u001b[0mvalue_counts\u001b[0m\u001b[0;34m(\u001b[0m\u001b[0;34m)\u001b[0m\u001b[0;34m\u001b[0m\u001b[0;34m\u001b[0m\u001b[0m\n\u001b[0m\u001b[1;32m      2\u001b[0m \u001b[0;34m\u001b[0m\u001b[0m\n\u001b[1;32m      3\u001b[0m \u001b[0msns\u001b[0m\u001b[0;34m.\u001b[0m\u001b[0mbarplot\u001b[0m\u001b[0;34m(\u001b[0m\u001b[0mx\u001b[0m\u001b[0;34m=\u001b[0m\u001b[0mlate_shipments_by_mode\u001b[0m\u001b[0;34m.\u001b[0m\u001b[0mindex\u001b[0m\u001b[0;34m,\u001b[0m \u001b[0my\u001b[0m\u001b[0;34m=\u001b[0m\u001b[0mlate_shipments_by_mode\u001b[0m\u001b[0;34m.\u001b[0m\u001b[0mvalues\u001b[0m\u001b[0;34m,\u001b[0m \u001b[0mpalette\u001b[0m\u001b[0;34m=\u001b[0m\u001b[0;34m'Reds'\u001b[0m\u001b[0;34m)\u001b[0m\u001b[0;34m\u001b[0m\u001b[0;34m\u001b[0m\u001b[0m\n\u001b[1;32m      4\u001b[0m \u001b[0mplt\u001b[0m\u001b[0;34m.\u001b[0m\u001b[0mtitle\u001b[0m\u001b[0;34m(\u001b[0m\u001b[0;34m'Late Deliveries by Shipment Mode'\u001b[0m\u001b[0;34m)\u001b[0m\u001b[0;34m\u001b[0m\u001b[0;34m\u001b[0m\u001b[0m\n\u001b[1;32m      5\u001b[0m \u001b[0mplt\u001b[0m\u001b[0;34m.\u001b[0m\u001b[0mxlabel\u001b[0m\u001b[0;34m(\u001b[0m\u001b[0;34m'Shipment Mode'\u001b[0m\u001b[0;34m)\u001b[0m\u001b[0;34m\u001b[0m\u001b[0;34m\u001b[0m\u001b[0m\n",
            "\u001b[0;31mNameError\u001b[0m: name 'df' is not defined"
          ]
        }
      ]
    },
    {
      "cell_type": "markdown",
      "source": [
        "10. Does more lead time (between PO sent and scheduled delivery) help on-time delivery?"
      ],
      "metadata": {
        "id": "Y5zOn9-vywt5"
      }
    },
    {
      "cell_type": "code",
      "source": [
        "sns.scatterplot(x='Lead Time (days)', y='On Time Delivery', data=df, alpha=0.3)\n",
        "plt.title('Lead Time vs On-Time Delivery')\n",
        "plt.xlabel('Lead Time (Days)')\n",
        "plt.ylabel('On Time (1 = Yes, 0 = No)')\n",
        "plt.show()\n",
        "\n",
        "# Correlation value\n",
        "lead_time_corr = df[['Lead Time (days)', 'On Time Delivery']].corr().iloc[0,1]\n",
        "print(f\"Correlation between Lead Time and On-Time Delivery: {lead_time_corr:.2f}\")\n",
        "#df = df[df['Lead Time (days)'] >= 0]"
      ],
      "metadata": {
        "id": "2XQJZQnxy0n6"
      },
      "execution_count": null,
      "outputs": []
    },
    {
      "cell_type": "markdown",
      "source": [
        "11. Does the type of INCO term impact delivery performance?"
      ],
      "metadata": {
        "id": "3CxhZs13y3UM"
      }
    },
    {
      "cell_type": "code",
      "source": [
        "on_time_by_inco = df.groupby('Vendor INCO Term')['On Time Delivery'].mean().sort_values(ascending=False)\n",
        "\n",
        "sns.barplot(x=on_time_by_inco.values, y=on_time_by_inco.index, palette='Set2')\n",
        "plt.title('On-Time Delivery Rate by INCO Term')\n",
        "plt.xlabel('On-Time Delivery Rate')\n",
        "plt.ylabel('Vendor INCO Term')\n",
        "plt.show()"
      ],
      "metadata": {
        "id": "CWm5QFe_y6kW"
      },
      "execution_count": null,
      "outputs": []
    },
    {
      "cell_type": "markdown",
      "source": [
        "12. Are higher weights linked to higher insurance costs?"
      ],
      "metadata": {
        "id": "T2EzGWNjy-Og"
      }
    },
    {
      "cell_type": "code",
      "source": [
        "sns.scatterplot(x='Weight (Kilograms)', y='Line Item Insurance (USD)', data=df, alpha=0.3)\n",
        "plt.title('Weight vs Insurance Cost')\n",
        "plt.xlabel('Weight (kg)')\n",
        "plt.ylabel('Insurance Cost (USD)')\n",
        "plt.show()\n",
        "\n",
        "# Correlation value\n",
        "insurance_corr = df[['Weight (Kilograms)', 'Line Item Insurance (USD)']].corr().iloc[0,1]\n",
        "print(f\"Correlation between Weight and Insurance Cost: {insurance_corr:.2f}\")"
      ],
      "metadata": {
        "id": "__suN3Ywy9iQ"
      },
      "execution_count": null,
      "outputs": []
    },
    {
      "cell_type": "markdown",
      "source": [
        "**Conclusion:**\n",
        "The analysis of the Fed-Ex dataset reveals several key insights into supply chain performance. Shipments managed by specific teams (like PMO-US) and sent via faster modes (like Air) tend to have higher on-time delivery rates. Countries of origin and shipment modes significantly impact delivery delays, highlighting the importance of regional planning and logistics strategy. Insurance costs show a positive relationship with shipment weight, underlining the need to monitor heavy shipments closely. These findings provide actionable data to enhance operational efficiency, reduce delays, and control logistics costs in global supply chain management."
      ],
      "metadata": {
        "id": "p65lt8lrzc8F"
      }
    }
  ]
}